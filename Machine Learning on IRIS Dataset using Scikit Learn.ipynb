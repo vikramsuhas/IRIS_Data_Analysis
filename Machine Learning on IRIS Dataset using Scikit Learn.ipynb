{
 "cells": [
  {
   "cell_type": "code",
   "execution_count": 1,
   "metadata": {},
   "outputs": [],
   "source": [
    "## importing the iris dataset from sklearn\n",
    "from sklearn.datasets import load_iris\n",
    "from sklearn.metrics import classification_report,accuracy_score,confusion_matrix\n",
    "from sklearn.model_selection import train_test_split"
   ]
  },
  {
   "cell_type": "code",
   "execution_count": 2,
   "metadata": {},
   "outputs": [
    {
     "name": "stdout",
     "output_type": "stream",
     "text": [
      "<class 'sklearn.utils.Bunch'>\n"
     ]
    }
   ],
   "source": [
    "## Loading Iris data to a variable, type of iris is Bunch which is a object in the sklearn to represent data sets\n",
    "iris = load_iris()\n",
    "print(type(iris))"
   ]
  },
  {
   "cell_type": "code",
   "execution_count": 3,
   "metadata": {},
   "outputs": [
    {
     "name": "stdout",
     "output_type": "stream",
     "text": [
      "['sepal length (cm)', 'sepal width (cm)', 'petal length (cm)', 'petal width (cm)']\n"
     ]
    }
   ],
   "source": [
    "## Features of Iris dataset -predictors, independent variables\n",
    "## Print features of Iris dataset\n",
    "print(iris.feature_names)"
   ]
  },
  {
   "cell_type": "markdown",
   "metadata": {},
   "source": [
    "#### 150 Observations\n",
    "#### Predictors, independent variables, features - 'sepal length (cm)', 'sepal width (cm)', 'petal length (cm)', 'petal width (cm)\n",
    "#### Target , response ,dependent variable - Species\n",
    "#### Classification problem - since the target is categorical"
   ]
  },
  {
   "cell_type": "code",
   "execution_count": 4,
   "metadata": {},
   "outputs": [
    {
     "name": "stdout",
     "output_type": "stream",
     "text": [
      "[0 0 0 0 0 0 0 0 0 0 0 0 0 0 0 0 0 0 0 0 0 0 0 0 0 0 0 0 0 0 0 0 0 0 0 0 0\n",
      " 0 0 0 0 0 0 0 0 0 0 0 0 0 1 1 1 1 1 1 1 1 1 1 1 1 1 1 1 1 1 1 1 1 1 1 1 1\n",
      " 1 1 1 1 1 1 1 1 1 1 1 1 1 1 1 1 1 1 1 1 1 1 1 1 1 1 2 2 2 2 2 2 2 2 2 2 2\n",
      " 2 2 2 2 2 2 2 2 2 2 2 2 2 2 2 2 2 2 2 2 2 2 2 2 2 2 2 2 2 2 2 2 2 2 2 2 2\n",
      " 2 2]\n"
     ]
    }
   ],
   "source": [
    "## Print target variables\n",
    "print(iris.target) ## 0 - setosa, 1 - versicolor, 2 - virginica"
   ]
  },
  {
   "cell_type": "code",
   "execution_count": 5,
   "metadata": {},
   "outputs": [
    {
     "name": "stdout",
     "output_type": "stream",
     "text": [
      "['setosa' 'versicolor' 'virginica']\n"
     ]
    }
   ],
   "source": [
    "print(iris.target_names)"
   ]
  },
  {
   "cell_type": "code",
   "execution_count": 6,
   "metadata": {},
   "outputs": [
    {
     "name": "stdout",
     "output_type": "stream",
     "text": [
      "<class 'numpy.ndarray'>\n",
      "<class 'numpy.ndarray'>\n",
      "[[4.9 3.  1.4 0.2]\n",
      " [4.7 3.2 1.3 0.2]\n",
      " [4.6 3.1 1.5 0.2]\n",
      " [5.  3.6 1.4 0.2]\n",
      " [5.4 3.9 1.7 0.4]]\n",
      "[0 0 0 0 0]\n"
     ]
    }
   ],
   "source": [
    "## Check the type of features and target varible\n",
    "print(type(iris.data)) ## iris data nothing but csv but data is the extension\n",
    "print(type(iris.target)) ## need to predict species of Iris\n",
    "print(iris.data[1:6])\n",
    "print(iris.target[1:6])"
   ]
  },
  {
   "cell_type": "code",
   "execution_count": 7,
   "metadata": {},
   "outputs": [
    {
     "name": "stdout",
     "output_type": "stream",
     "text": [
      "(150, 4)\n",
      "(150,)\n"
     ]
    }
   ],
   "source": [
    "print(iris.data.shape) ## 150 rows and 4 columns\n",
    "print(iris.target.shape) ## 150, shape matches"
   ]
  },
  {
   "cell_type": "code",
   "execution_count": 8,
   "metadata": {},
   "outputs": [],
   "source": [
    "## requirements for working with data in Scikit learn\n",
    "## Predictors and Target variables should be numeric\n",
    "## Predictors and Target variables should be separate objects\n",
    "## Predictors and Target variables should be Numpy arrays and should have specific dimension\n",
    "X = iris.data ## An array [ 4.9,3.1,1.3,0.2], X is capital because it represents Matrix\n",
    "y = iris.target ## An array [ 0,1,2], since it takes only numeric values, the species is stored as numbers - 0 - Setosa,1-versicolor and 2 - Virginica\n",
    "                ## y is lower because it specifies a vector"
   ]
  },
  {
   "cell_type": "markdown",
   "metadata": {},
   "source": [
    "### K-nearest neighbors - KNN - Classifier"
   ]
  },
  {
   "cell_type": "code",
   "execution_count": 9,
   "metadata": {},
   "outputs": [],
   "source": [
    "## importing KNN classifier\n",
    "from sklearn.neighbors import KNeighborsClassifier"
   ]
  },
  {
   "cell_type": "code",
   "execution_count": 10,
   "metadata": {},
   "outputs": [
    {
     "data": {
      "text/plain": [
       "KNeighborsClassifier(algorithm='auto', leaf_size=30, metric='minkowski',\n",
       "           metric_params=None, n_jobs=1, n_neighbors=1, p=2,\n",
       "           weights='uniform')"
      ]
     },
     "execution_count": 10,
     "metadata": {},
     "output_type": "execute_result"
    }
   ],
   "source": [
    "KNN = KNeighborsClassifier(n_neighbors=1) ## Returning an object of KNeighborsClassifier\n",
    "KNN"
   ]
  },
  {
   "cell_type": "code",
   "execution_count": 11,
   "metadata": {},
   "outputs": [
    {
     "data": {
      "text/plain": [
       "KNeighborsClassifier(algorithm='auto', leaf_size=30, metric='minkowski',\n",
       "           metric_params=None, n_jobs=1, n_neighbors=1, p=2,\n",
       "           weights='uniform')"
      ]
     },
     "execution_count": 11,
     "metadata": {},
     "output_type": "execute_result"
    }
   ],
   "source": [
    "## Fitting the model - Training the model\n",
    "X = iris.data ## 2D array\n",
    "y = iris.target ## 1D array\n",
    "KNN.fit(X,y) ## this operation occurs INPLACE hence no need to assign to a variable"
   ]
  },
  {
   "cell_type": "code",
   "execution_count": 12,
   "metadata": {},
   "outputs": [
    {
     "data": {
      "text/plain": [
       "array([1])"
      ]
     },
     "execution_count": 12,
     "metadata": {},
     "output_type": "execute_result"
    }
   ],
   "source": [
    "KNN.predict( [[3,3,4,0.8]] )"
   ]
  },
  {
   "cell_type": "code",
   "execution_count": 13,
   "metadata": {},
   "outputs": [
    {
     "data": {
      "text/plain": [
       "array([1, 0])"
      ]
     },
     "execution_count": 13,
     "metadata": {},
     "output_type": "execute_result"
    }
   ],
   "source": [
    "## Predicting for multiple values - you can also split the data and predict the test data\n",
    "KNN.predict([[2,3,3,1] , [3,5,3,2]])"
   ]
  },
  {
   "cell_type": "code",
   "execution_count": 14,
   "metadata": {},
   "outputs": [
    {
     "name": "stdout",
     "output_type": "stream",
     "text": [
      "             precision    recall  f1-score   support\n",
      "\n",
      "          0       1.00      1.00      1.00        50\n",
      "          1       1.00      1.00      1.00        50\n",
      "          2       1.00      1.00      1.00        50\n",
      "\n",
      "avg / total       1.00      1.00      1.00       150\n",
      "\n",
      "[[50  0  0]\n",
      " [ 0 50  0]\n",
      " [ 0  0 50]]\n"
     ]
    }
   ],
   "source": [
    "## Training on the same data set when K = 1\n",
    "y_pred_k1 = KNN.predict(X)\n",
    "print(classification_report(y,y_pred_k1))\n",
    "print(confusion_matrix(y,y_pred_k1)) ## Overfitting 100% accuracy"
   ]
  },
  {
   "cell_type": "code",
   "execution_count": 15,
   "metadata": {},
   "outputs": [
    {
     "name": "stdout",
     "output_type": "stream",
     "text": [
      "             precision    recall  f1-score   support\n",
      "\n",
      "          0       1.00      1.00      1.00        21\n",
      "          1       0.90      0.90      0.90        10\n",
      "          2       0.93      0.93      0.93        14\n",
      "\n",
      "avg / total       0.96      0.96      0.96        45\n",
      "\n",
      "[[21  0  0]\n",
      " [ 0  9  1]\n",
      " [ 0  1 13]]\n"
     ]
    }
   ],
   "source": [
    "##Splitting the dataset when K = 1\n",
    "X_train0,X_test0,y_train0,y_test0 = train_test_split(X,y,test_size=.3,random_state = 4)\n",
    "KNN.fit(X_train0,y_train0)\n",
    "y_predict3 = KNN.predict(X_test0)\n",
    "print(classification_report(y_test0,y_predict3))\n",
    "print(confusion_matrix(y_test0,y_predict3))\n",
    "## You can clearly see overfitted model (K = 1,sample data accuracy = 100%), accuracy is 96% and accuracy of generalised model\n",
    "## is 98%(when K = 5, accuracy of the sample data - 98%)"
   ]
  },
  {
   "cell_type": "code",
   "execution_count": 16,
   "metadata": {},
   "outputs": [],
   "source": [
    "## Tuning the model by tuning the hyper parameters to check for more value of K\n",
    "## Lets try for K = 5 , ie No. of neighbors"
   ]
  },
  {
   "cell_type": "code",
   "execution_count": 17,
   "metadata": {},
   "outputs": [
    {
     "data": {
      "text/plain": [
       "KNeighborsClassifier(algorithm='auto', leaf_size=30, metric='minkowski',\n",
       "           metric_params=None, n_jobs=1, n_neighbors=5, p=2,\n",
       "           weights='uniform')"
      ]
     },
     "execution_count": 17,
     "metadata": {},
     "output_type": "execute_result"
    }
   ],
   "source": [
    "knn_new = KNeighborsClassifier(n_neighbors = 5)\n",
    "knn_new.fit(X,y)"
   ]
  },
  {
   "cell_type": "code",
   "execution_count": 18,
   "metadata": {},
   "outputs": [
    {
     "data": {
      "text/plain": [
       "array([0, 0])"
      ]
     },
     "execution_count": 18,
     "metadata": {},
     "output_type": "execute_result"
    }
   ],
   "source": [
    "x_new = [[2,3,3,1] , [3,5,3,2]]\n",
    "knn_new.predict(x_new) ## This it predicted Setosa for both which might be little more accurate"
   ]
  },
  {
   "cell_type": "code",
   "execution_count": 19,
   "metadata": {},
   "outputs": [
    {
     "name": "stdout",
     "output_type": "stream",
     "text": [
      "             precision    recall  f1-score   support\n",
      "\n",
      "          0       1.00      1.00      1.00        50\n",
      "          1       0.96      0.94      0.95        50\n",
      "          2       0.94      0.96      0.95        50\n",
      "\n",
      "avg / total       0.97      0.97      0.97       150\n",
      "\n",
      "[[50  0  0]\n",
      " [ 0 47  3]\n",
      " [ 0  2 48]]\n"
     ]
    }
   ],
   "source": [
    "##Testing on the same dataset by passing X to prediction model\n",
    "y_pred1 = knn_new.predict(X)\n",
    "print(classification_report(y , y_pred1))\n",
    "print(confusion_matrix(y ,y_pred1))"
   ]
  },
  {
   "cell_type": "code",
   "execution_count": 20,
   "metadata": {},
   "outputs": [],
   "source": [
    "#Splitting the data for training and testing - using the same data for testing and predictions\n",
    "from sklearn.model_selection import train_test_split\n",
    "from sklearn.metrics import accuracy_score,classification_report,r2_score,confusion_matrix\n",
    "X_train1,X_test1,y_train1,y_test1 = train_test_split(X,y,test_size = .3 , random_state = 4)\n",
    "knn_new1 = KNeighborsClassifier(n_neighbors=5)\n",
    "knn_new1.fit(X,y)\n",
    "y_predict1 = knn_new1.predict(X_test1)"
   ]
  },
  {
   "cell_type": "code",
   "execution_count": 21,
   "metadata": {},
   "outputs": [
    {
     "name": "stdout",
     "output_type": "stream",
     "text": [
      "             precision    recall  f1-score   support\n",
      "\n",
      "          0       1.00      1.00      1.00        21\n",
      "          1       1.00      0.90      0.95        10\n",
      "          2       0.93      1.00      0.97        14\n",
      "\n",
      "avg / total       0.98      0.98      0.98        45\n",
      "\n"
     ]
    },
    {
     "data": {
      "text/plain": [
       "array([[21,  0,  0],\n",
       "       [ 0,  9,  1],\n",
       "       [ 0,  0, 14]], dtype=int64)"
      ]
     },
     "execution_count": 21,
     "metadata": {},
     "output_type": "execute_result"
    }
   ],
   "source": [
    "print(classification_report(y_test1,y_predict1))\n",
    "confusion_matrix(y_test1,y_predict1)"
   ]
  },
  {
   "cell_type": "code",
   "execution_count": null,
   "metadata": {},
   "outputs": [],
   "source": []
  },
  {
   "cell_type": "markdown",
   "metadata": {},
   "source": [
    "### Classification - Logistic Regression on the same IRIS dataset"
   ]
  },
  {
   "cell_type": "code",
   "execution_count": 22,
   "metadata": {},
   "outputs": [
    {
     "data": {
      "text/plain": [
       "LogisticRegression(C=1.0, class_weight=None, dual=False, fit_intercept=True,\n",
       "          intercept_scaling=1, max_iter=100, multi_class='ovr', n_jobs=1,\n",
       "          penalty='l2', random_state=None, solver='liblinear', tol=0.0001,\n",
       "          verbose=0, warm_start=False)"
      ]
     },
     "execution_count": 22,
     "metadata": {},
     "output_type": "execute_result"
    }
   ],
   "source": [
    "from sklearn.linear_model import LogisticRegression\n",
    "from sklearn.metrics import accuracy_score,r2_score,classification_report,confusion_matrix\n",
    "from sklearn.model_selection import train_test_split\n",
    "model_LR = LogisticRegression()\n",
    "model_LR.fit(X,y)"
   ]
  },
  {
   "cell_type": "code",
   "execution_count": 23,
   "metadata": {},
   "outputs": [
    {
     "data": {
      "text/plain": [
       "array([2, 0])"
      ]
     },
     "execution_count": 23,
     "metadata": {},
     "output_type": "execute_result"
    }
   ],
   "source": [
    "x_new = [[2,3,3,1] , [3,5,3,2]]\n",
    "y_predict = model_LR.predict(x_new)\n",
    "y_predict"
   ]
  },
  {
   "cell_type": "markdown",
   "metadata": {},
   "source": [
    "#### Training on the same dataset"
   ]
  },
  {
   "cell_type": "code",
   "execution_count": 24,
   "metadata": {},
   "outputs": [
    {
     "name": "stdout",
     "output_type": "stream",
     "text": [
      "             precision    recall  f1-score   support\n",
      "\n",
      "          0       1.00      1.00      1.00        50\n",
      "          1       0.98      0.90      0.94        50\n",
      "          2       0.91      0.98      0.94        50\n",
      "\n",
      "avg / total       0.96      0.96      0.96       150\n",
      "\n",
      "[[50  0  0]\n",
      " [ 0 45  5]\n",
      " [ 0  1 49]]\n"
     ]
    }
   ],
   "source": [
    "y_pred2 = model_LR.predict(X)\n",
    "print(classification_report(y,y_pred2))\n",
    "print(confusion_matrix(y,y_pred2))"
   ]
  },
  {
   "cell_type": "markdown",
   "metadata": {},
   "source": [
    "#### Splitting the data for training and testing - using the same data for testing and predictions\n",
    "### Train_test_split() - It shuffles the data first, splits according to the given parameter to Train and Test, so part of the sample actually won't go for training and these samples are sent to predict and test the prediction with Y_test."
   ]
  },
  {
   "cell_type": "code",
   "execution_count": 25,
   "metadata": {},
   "outputs": [],
   "source": [
    "X_train2,X_test2,y_train2,y_test2 = train_test_split(X,y,test_size=.3,random_state = 15)"
   ]
  },
  {
   "cell_type": "code",
   "execution_count": 26,
   "metadata": {},
   "outputs": [
    {
     "data": {
      "text/plain": [
       "array([0, 1, 1, 0, 0, 1, 2, 1, 1, 2, 2, 1, 1, 1, 2, 0, 1, 2, 0, 1, 1, 0,\n",
       "       1, 1, 0, 0, 2, 2, 2, 1, 0, 2, 1, 2, 0, 0, 2, 0, 0, 1, 2, 0, 0, 1,\n",
       "       2])"
      ]
     },
     "execution_count": 26,
     "metadata": {},
     "output_type": "execute_result"
    }
   ],
   "source": [
    "y_predict2 = model_LR.predict(X_test2)\n",
    "y_predict2"
   ]
  },
  {
   "cell_type": "code",
   "execution_count": 27,
   "metadata": {},
   "outputs": [
    {
     "data": {
      "text/plain": [
       "array([0, 1, 1, 0, 0, 1, 2, 1, 1, 2, 2, 1, 1, 1, 2, 0, 1, 2, 0, 2, 1, 0,\n",
       "       1, 1, 0, 0, 2, 2, 2, 1, 0, 2, 1, 2, 0, 0, 2, 0, 0, 1, 2, 0, 0, 1,\n",
       "       2])"
      ]
     },
     "execution_count": 27,
     "metadata": {},
     "output_type": "execute_result"
    }
   ],
   "source": [
    "y_test2"
   ]
  },
  {
   "cell_type": "code",
   "execution_count": 28,
   "metadata": {},
   "outputs": [
    {
     "name": "stdout",
     "output_type": "stream",
     "text": [
      "Accuracy score: 0.9777777777777777\n",
      "r2 score: 0.9654907975460123\n"
     ]
    },
    {
     "data": {
      "text/plain": [
       "array([[15,  0,  0],\n",
       "       [ 0, 16,  0],\n",
       "       [ 0,  1, 13]], dtype=int64)"
      ]
     },
     "execution_count": 28,
     "metadata": {},
     "output_type": "execute_result"
    }
   ],
   "source": [
    "print(\"Accuracy score:\", accuracy_score(y_test2,y_predict2))\n",
    "print(\"r2 score:\", r2_score(y_test2,y_predict2))\n",
    "confusion_matrix(y_test2,y_predict2)"
   ]
  },
  {
   "cell_type": "code",
   "execution_count": 29,
   "metadata": {},
   "outputs": [
    {
     "name": "stdout",
     "output_type": "stream",
     "text": [
      "             precision    recall  f1-score   support\n",
      "\n",
      "          0       1.00      1.00      1.00        15\n",
      "          1       0.94      1.00      0.97        16\n",
      "          2       1.00      0.93      0.96        14\n",
      "\n",
      "avg / total       0.98      0.98      0.98        45\n",
      "\n"
     ]
    }
   ],
   "source": [
    "print(classification_report(y_test2,y_predict2))"
   ]
  },
  {
   "cell_type": "markdown",
   "metadata": {},
   "source": [
    "### Conclusion - On sample dataset\n",
    "### Logistic Regression - 98% with one incorrect predictions\n",
    "###  KNN - 98 % with one incorrect prediction when K = 5\n",
    "### Conclusion - On Full dataset\n",
    "### Logistic Regression - 96% with 6 incorrect predictions\n",
    "### KNN - 97% with 5 incorrect predictions K = 5\n",
    "### KNN - 100% when K = 1, since we trained on entire sample data, it will predict correctly, hence splitting and testing is more useful to predict out of sample data. This we can also call as Overfitting, it makes model complex and might not work properly with out of sample data.\n",
    "### When the model is overfitted, it learnt the noise in the data rather than the signal(out of sample)"
   ]
  },
  {
   "cell_type": "code",
   "execution_count": 30,
   "metadata": {},
   "outputs": [
    {
     "data": {
      "text/plain": [
       "[0.95,\n",
       " 0.95,\n",
       " 0.9666666666666667,\n",
       " 0.9666666666666667,\n",
       " 0.9666666666666667,\n",
       " 0.9833333333333333,\n",
       " 0.9833333333333333,\n",
       " 0.9833333333333333,\n",
       " 0.9833333333333333,\n",
       " 0.9833333333333333,\n",
       " 0.9833333333333333,\n",
       " 0.9833333333333333,\n",
       " 0.9833333333333333,\n",
       " 0.9833333333333333,\n",
       " 0.9833333333333333,\n",
       " 0.9833333333333333,\n",
       " 0.9833333333333333,\n",
       " 0.9666666666666667,\n",
       " 0.9833333333333333,\n",
       " 0.9666666666666667,\n",
       " 0.9666666666666667,\n",
       " 0.9666666666666667,\n",
       " 0.9666666666666667,\n",
       " 0.95,\n",
       " 0.95]"
      ]
     },
     "execution_count": 30,
     "metadata": {},
     "output_type": "execute_result"
    }
   ],
   "source": [
    "## Looping through range to find the best K value\n",
    "Range = range(1,26)\n",
    "scores = []\n",
    "X_train,X_test,y_train,y_test = train_test_split(X,y,test_size=.4,random_state = 4)\n",
    "for K in Range:\n",
    "    KNN_clf = KNeighborsClassifier(n_neighbors=K)\n",
    "    KNN_clf.fit(X_train,y_train)\n",
    "    predict = KNN_clf.predict(X_test)\n",
    "    score=accuracy_score(y_test,predict)\n",
    "    scores.append(score)\n",
    "scores"
   ]
  },
  {
   "cell_type": "code",
   "execution_count": 31,
   "metadata": {},
   "outputs": [
    {
     "data": {
      "text/plain": [
       "Text(0,0.5,'Accuary Score')"
      ]
     },
     "execution_count": 31,
     "metadata": {},
     "output_type": "execute_result"
    },
    {
     "data": {
      "image/png": "[encoded data removed]",
      "text/plain": [
       "<Figure size 432x288 with 1 Axes>"
      ]
     },
     "metadata": {},
     "output_type": "display_data"
    }
   ],
   "source": [
    "## Plotting graph against K and Accuracy\n",
    "## %matplotlib inline - allows Plots to appear to appear within the notebook\n",
    "import matplotlib.pyplot as plt\n",
    "%matplotlib inline\n",
    "plt.plot(Range,scores)\n",
    "plt.xlabel(\"Value of K\")\n",
    "plt.ylabel(\"Accuary Score\")"
   ]
  },
  {
   "cell_type": "markdown",
   "metadata": {},
   "source": [
    "### Drawbacks of train_test_split\n",
    "### Too much variation in the testing accuracy when we change random_state value, means it takes different dataset each time, so to find the correct random_state value we can run a loop to find but thats what cross-validation does"
   ]
  },
  {
   "cell_type": "code",
   "execution_count": 48,
   "metadata": {},
   "outputs": [],
   "source": [
    "from sklearn.neighbors import KNeighborsClassifier\n",
    "from sklearn.datasets import load_iris\n",
    "from sklearn.metrics import classification_report,confusion_matrix,accuracy_score\n",
    "from sklearn.cross_validation import train_test_split,KFold,cross_val_score"
   ]
  },
  {
   "cell_type": "markdown",
   "metadata": {},
   "source": [
    "#### Cross validation"
   ]
  },
  {
   "cell_type": "code",
   "execution_count": 33,
   "metadata": {},
   "outputs": [
    {
     "name": "stdout",
     "output_type": "stream",
     "text": [
      "(150, 4)\n",
      "(150,)\n"
     ]
    }
   ],
   "source": [
    "iris_new = load_iris()\n",
    "X_N = iris_new.data\n",
    "y_N = iris_new.target\n",
    "print(X_N.shape)\n",
    "print(y_N.shape)"
   ]
  },
  {
   "cell_type": "code",
   "execution_count": 34,
   "metadata": {},
   "outputs": [
    {
     "data": {
      "text/plain": [
       "array([[4.9, 3. , 1.4, 0.2],\n",
       "       [4.7, 3.2, 1.3, 0.2],\n",
       "       [4.6, 3.1, 1.5, 0.2],\n",
       "       [5. , 3.6, 1.4, 0.2]])"
      ]
     },
     "execution_count": 34,
     "metadata": {},
     "output_type": "execute_result"
    }
   ],
   "source": [
    "iris_new.data[1:5]"
   ]
  },
  {
   "cell_type": "code",
   "execution_count": 35,
   "metadata": {},
   "outputs": [
    {
     "data": {
      "text/plain": [
       "array([0, 0, 0, 0])"
      ]
     },
     "execution_count": 35,
     "metadata": {},
     "output_type": "execute_result"
    }
   ],
   "source": [
    "iris_new.target[1:5]"
   ]
  },
  {
   "cell_type": "code",
   "execution_count": 36,
   "metadata": {},
   "outputs": [
    {
     "name": "stdout",
     "output_type": "stream",
     "text": [
      "(112, 4)\n",
      "(38, 4)\n",
      "(112,)\n",
      "(38,)\n"
     ]
    }
   ],
   "source": [
    "Xn_train,Xn_test,yn_train,yn_test = train_test_split(X_N,y_N,random_state = 4)\n",
    "print(Xn_train.shape)\n",
    "print(Xn_test.shape)\n",
    "print(yn_train.shape)\n",
    "print(yn_test.shape) "
   ]
  },
  {
   "cell_type": "code",
   "execution_count": 37,
   "metadata": {},
   "outputs": [
    {
     "name": "stdout",
     "output_type": "stream",
     "text": [
      "             precision    recall  f1-score   support\n",
      "\n",
      "          0       1.00      1.00      1.00        18\n",
      "          1       1.00      0.88      0.93         8\n",
      "          2       0.92      1.00      0.96        12\n",
      "\n",
      "avg / total       0.98      0.97      0.97        38\n",
      "\n"
     ]
    },
    {
     "data": {
      "text/plain": [
       "array([[18,  0,  0],\n",
       "       [ 0,  7,  1],\n",
       "       [ 0,  0, 12]], dtype=int64)"
      ]
     },
     "execution_count": 37,
     "metadata": {},
     "output_type": "execute_result"
    }
   ],
   "source": [
    "new_model = KNeighborsClassifier(n_neighbors = 5)\n",
    "new_model.fit(Xn_train,yn_train)\n",
    "yn_predict = new_model.predict(Xn_test)\n",
    "print(classification_report(yn_test,yn_predict))\n",
    "confusion_matrix(yn_test,yn_predict)"
   ]
  },
  {
   "cell_type": "code",
   "execution_count": 38,
   "metadata": {},
   "outputs": [
    {
     "name": "stdout",
     "output_type": "stream",
     "text": [
      "[1.         0.93333333 1.         1.         0.86666667 0.93333333\n",
      " 0.93333333 1.         1.         1.        ]\n",
      "Mean= 0.9666666666666668\n"
     ]
    }
   ],
   "source": [
    "new_model = KNeighborsClassifier(n_neighbors=5)\n",
    "scores = cross_val_score(new_model,X_N,y_N,cv=10,scoring='accuracy')\n",
    "print(scores)\n",
    "print(\"Mean=\",scores.mean())\n",
    "## Here we are running for n_neighbors = 5 which is not generalised\n",
    "## We will create a for loop which iterates for each K value by the keeping the folds(cv) = 10."
   ]
  },
  {
   "cell_type": "code",
   "execution_count": 39,
   "metadata": {},
   "outputs": [
    {
     "data": {
      "text/plain": [
       "[0.96,\n",
       " 0.9533333333333334,\n",
       " 0.9666666666666666,\n",
       " 0.9666666666666666,\n",
       " 0.9666666666666668,\n",
       " 0.9666666666666668,\n",
       " 0.9666666666666668,\n",
       " 0.9666666666666668,\n",
       " 0.9733333333333334,\n",
       " 0.9666666666666668,\n",
       " 0.9666666666666668,\n",
       " 0.9733333333333334,\n",
       " 0.9800000000000001,\n",
       " 0.9733333333333334,\n",
       " 0.9733333333333334,\n",
       " 0.9733333333333334,\n",
       " 0.9733333333333334,\n",
       " 0.9800000000000001,\n",
       " 0.9733333333333334,\n",
       " 0.9800000000000001,\n",
       " 0.9666666666666666,\n",
       " 0.9666666666666666,\n",
       " 0.9733333333333334,\n",
       " 0.96,\n",
       " 0.9666666666666666,\n",
       " 0.96,\n",
       " 0.9666666666666666,\n",
       " 0.9533333333333334,\n",
       " 0.9533333333333334,\n",
       " 0.9533333333333334]"
      ]
     },
     "execution_count": 39,
     "metadata": {},
     "output_type": "execute_result"
    }
   ],
   "source": [
    "range_list = range(1,31)\n",
    "accuracy_list = []\n",
    "for k in range_list:\n",
    "    new_model = KNeighborsClassifier(n_neighbors=k)\n",
    "    scores = cross_val_score(new_model,X_N,y_N,cv=10,scoring='accuracy') ## cv = 10 is optimum\n",
    "    accuracy_list.append(scores.mean())\n",
    "accuracy_list"
   ]
  },
  {
   "cell_type": "code",
   "execution_count": 40,
   "metadata": {},
   "outputs": [
    {
     "data": {
      "text/plain": [
       "Text(0,0.5,'Cross- validation accuracy')"
      ]
     },
     "execution_count": 40,
     "metadata": {},
     "output_type": "execute_result"
    },
    {
     "data": {
      "image/png": "[encoded data removed]",
      "text/plain": [
       "<Figure size 432x288 with 1 Axes>"
      ]
     },
     "metadata": {},
     "output_type": "display_data"
    }
   ],
   "source": [
    "import matplotlib.pyplot as plt\n",
    "%matplotlib inline\n",
    "plt.plot(range_list,accuracy_list) ## line Plot\n",
    "plt.xlabel(\"K values\")\n",
    "plt.ylabel(\"Cross- validation accuracy\")\n",
    "## You can see Testing accuracy is high in K range 13 to 20"
   ]
  },
  {
   "cell_type": "markdown",
   "metadata": {},
   "source": [
    "#### Comparing the KNN model (Best (K = 20) vs LogisticRegression)"
   ]
  },
  {
   "cell_type": "code",
   "execution_count": 50,
   "metadata": {},
   "outputs": [
    {
     "name": "stdout",
     "output_type": "stream",
     "text": [
      "0.9800000000000001\n"
     ]
    },
    {
     "data": {
      "text/plain": [
       "array([0])"
      ]
     },
     "execution_count": 50,
     "metadata": {},
     "output_type": "execute_result"
    }
   ],
   "source": [
    "## High value of K rewards low complexity models\n",
    "##Comparing the KNN model (Best (K = 20) vs LogisticRegression)\n",
    "Model_fin = KNeighborsClassifier(n_neighbors=20)\n",
    "print(cross_val_score(Model_fin,X_N,y_N,cv=10,scoring='accuracy').mean())\n",
    "Model_fin.fit(X_N,y_N)\n",
    "Model_fin.predict([[4.7, 3.2, 1.3, 0.2]])"
   ]
  },
  {
   "cell_type": "code",
   "execution_count": 47,
   "metadata": {},
   "outputs": [
    {
     "data": {
      "text/plain": [
       "0.9533333333333334"
      ]
     },
     "execution_count": 47,
     "metadata": {},
     "output_type": "execute_result"
    }
   ],
   "source": [
    "Model_fin_logr = LogisticRegression()\n",
    "cross_val_score(Model_fin_logr,X_N,y_N,cv=10,scoring='accuracy').mean()"
   ]
  },
  {
   "cell_type": "code",
   "execution_count": null,
   "metadata": {},
   "outputs": [],
   "source": []
  }
 ],
 "metadata": {
  "kernelspec": {
   "display_name": "Python 3",
   "language": "python",
   "name": "python3"
  },
  "language_info": {
   "codemirror_mode": {
    "name": "ipython",
    "version": 3
   },
   "file_extension": ".py",
   "mimetype": "text/x-python",
   "name": "python",
   "nbconvert_exporter": "python",
   "pygments_lexer": "ipython3",
   "version": "3.6.5"
  }
 },
 "nbformat": 4,
 "nbformat_minor": 2
}
